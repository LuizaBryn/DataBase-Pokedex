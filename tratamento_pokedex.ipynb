{
 "cells": [
  {
   "cell_type": "code",
   "execution_count": 2,
   "id": "cf671712",
   "metadata": {},
   "outputs": [],
   "source": [
    "import io\n",
    "import psycopg2\n",
    "import pandas as pd\n",
    "import os"
   ]
  },
  {
   "cell_type": "code",
   "execution_count": 10,
   "id": "bf5352aa",
   "metadata": {},
   "outputs": [],
   "source": [
    "pokemons = pd.read_csv('C:/Users/Lutty Junior/Desktop/Repositorios/DB-Pokedex/Pokemon.csv')"
   ]
  },
  {
   "cell_type": "code",
   "execution_count": 4,
   "id": "8ffe0432",
   "metadata": {},
   "outputs": [],
   "source": [
    "usuario = os.getenv(\"USUARIO\")\n",
    "senha = os.getenv(\"SENHA\")\n",
    "endpoint = os.getenv(\"ENDPOINT\")C:\\Users\\Lutty Junior\\Desktop\\Repositorios\\DB-Pokedex"
   ]
  },
  {
   "cell_type": "code",
   "execution_count": 5,
   "id": "c4dc9731",
   "metadata": {},
   "outputs": [],
   "source": [
    "def carregar_dados(conn, df, tabela, colunas):\n",
    "    cur = conn.cursor()\n",
    "    output = io.StringIO()\n",
    "    df.to_csv(output, sep='\\t', header = False, index = False)\n",
    "    output.seek(0)\n",
    "    try:\n",
    "        cur.copy_from(output, tabela, null = \"\", columns = colunas)\n",
    "        conn.commit()\n",
    "    except Exception as e:\n",
    "        print(e)\n",
    "        conn.rollback()"
   ]
  },
  {
   "cell_type": "code",
   "execution_count": 6,
   "id": "4ca085f7",
   "metadata": {},
   "outputs": [],
   "source": [
    "#conn = psycopg2.connect(host=endpoint, port='5432', database='postgres', user=usuario, password=senha)"
   ]
  },
  {
   "cell_type": "code",
   "execution_count": 8,
   "id": "c3559787",
   "metadata": {},
   "outputs": [],
   "source": [
    "#carregar_dados(conn, pokemons, 'pokedex', ('id', \n",
    "#                                            'nome',\n",
    "#                                            'tipo1', \n",
    "#                                            'tipo2',\n",
    "#                                            'pontos',\n",
    "#                                            'vida',\n",
    "#                                            'ataque',\n",
    "#                                            'defesa',\n",
    "#                                            'sp_ataque',\n",
    "#                                            'sp_defesa',\n",
    "#                                            'velocidade',\n",
    "#                                            'geracao',\n",
    "#                                            'lendario'))"
   ]
  },
  {
   "cell_type": "code",
   "execution_count": null,
   "id": "710e4857",
   "metadata": {},
   "outputs": [],
   "source": []
  }
 ],
 "metadata": {
  "kernelspec": {
   "display_name": "Python 3 (ipykernel)",
   "language": "python",
   "name": "python3"
  },
  "language_info": {
   "codemirror_mode": {
    "name": "ipython",
    "version": 3
   },
   "file_extension": ".py",
   "mimetype": "text/x-python",
   "name": "python",
   "nbconvert_exporter": "python",
   "pygments_lexer": "ipython3",
   "version": "3.6.13"
  }
 },
 "nbformat": 4,
 "nbformat_minor": 5
}
